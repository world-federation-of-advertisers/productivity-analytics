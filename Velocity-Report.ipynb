{
 "cells": [
  {
   "cell_type": "code",
   "execution_count": 1,
   "id": "92635906-4da6-458b-bca5-361cd42961d6",
   "metadata": {},
   "outputs": [],
   "source": [
    "import sys\n",
    "import os\n",
    "\n",
    "import astetik\n",
    "import pandas as pd\n",
    "\n",
    "# Add the parent directory to the system path\n",
    "parent_path = os.path.abspath(os.path.join(os.getcwd(), '..'))\n",
    "sys.path.insert(0, parent_path)\n",
    "\n",
    "import productivity_analytics\n",
    "\n",
    "# Load the data from file\n",
    "pr_df = pd.read_csv(parent_path + '/data/pr_data.csv')\n",
    "review_df = pd.read_csv(parent_path + '/data/review_data.csv')\n",
    "\n",
    "# Add a new column `type` to both dataframes\n",
    "pr_df['type'] = 'pr'\n",
    "review_df['type'] = 'review'"
   ]
  },
  {
   "cell_type": "code",
   "execution_count": 2,
   "id": "504a315f-189d-43f8-990e-abafdd0da988",
   "metadata": {},
   "outputs": [
    {
     "ename": "ModuleNotFoundError",
     "evalue": "No module named 'productivity_analytics.plots'",
     "output_type": "error",
     "traceback": [
      "\u001b[0;31m---------------------------------------------------------------------------\u001b[0m",
      "\u001b[0;31mModuleNotFoundError\u001b[0m                       Traceback (most recent call last)",
      "Cell \u001b[0;32mIn[2], line 1\u001b[0m\n\u001b[0;32m----> 1\u001b[0m \u001b[38;5;28;01mfrom\u001b[39;00m \u001b[38;5;21;01mproductivity_analytics\u001b[39;00m\u001b[38;5;21;01m.\u001b[39;00m\u001b[38;5;21;01mplots\u001b[39;00m \u001b[38;5;28;01mimport\u001b[39;00m pr_open_to_resolve\n\u001b[1;32m      3\u001b[0m pr_open_to_resolve(pr_df, review_df)\n",
      "\u001b[0;31mModuleNotFoundError\u001b[0m: No module named 'productivity_analytics.plots'"
     ]
    }
   ],
   "source": [
    "from productivity_analytics.plots import pr_open_to_resolve\n",
    "\n",
    "pr_open_to_resolve(pr_df, review_df)"
   ]
  },
  {
   "cell_type": "code",
   "execution_count": null,
   "id": "6ae0cf31-f311-4e97-a55a-fdf8862b37e9",
   "metadata": {},
   "outputs": [],
   "source": [
    "from productivity_analytics.plots import pr_per_contributor\n",
    "\n",
    "pr_per_contributor(pr_df)"
   ]
  },
  {
   "cell_type": "code",
   "execution_count": null,
   "id": "7be3c746-15f1-43ef-b749-217b3e6b1fc4",
   "metadata": {},
   "outputs": [],
   "source": [
    "from productivity_analytics.plots import pr_comment_per_contributor\n",
    "\n",
    "pr_comment_per_contributor(review_df)"
   ]
  },
  {
   "cell_type": "code",
   "execution_count": null,
   "id": "e21a223a-46e6-438d-8619-08053b744eaa",
   "metadata": {},
   "outputs": [],
   "source": [
    "from productivity_analytics.plots import pr_request_per_contributor\n",
    "\n",
    "pr_request_per_contributor(review_df)"
   ]
  },
  {
   "cell_type": "code",
   "execution_count": null,
   "id": "595e0154-508b-4d88-97cf-a477495c1f90",
   "metadata": {},
   "outputs": [],
   "source": [
    "from productivity_analytics.plots import pr_iterations_per_author\n",
    "\n",
    "pr_iterations_per_author(pr_df, review_df)"
   ]
  }
 ],
 "metadata": {
  "kernelspec": {
   "display_name": "Python 3 (ipykernel)",
   "language": "python",
   "name": "python3"
  },
  "language_info": {
   "codemirror_mode": {
    "name": "ipython",
    "version": 3
   },
   "file_extension": ".py",
   "mimetype": "text/x-python",
   "name": "python",
   "nbconvert_exporter": "python",
   "pygments_lexer": "ipython3",
   "version": "3.10.9"
  }
 },
 "nbformat": 4,
 "nbformat_minor": 5
}
